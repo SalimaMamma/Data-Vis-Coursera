{
 "cells": [
  {
   "cell_type": "code",
   "execution_count": 181,
   "id": "0ca765e3",
   "metadata": {},
   "outputs": [],
   "source": [
    "%matplotlib inline\n",
    "import matplotlib.pyplot as plt\n",
    "import pandas as pd\n",
    "import numpy as np"
   ]
  },
  {
   "cell_type": "markdown",
   "id": "e809f169",
   "metadata": {},
   "source": [
    "## 1- DATA "
   ]
  },
  {
   "cell_type": "code",
   "execution_count": 182,
   "id": "600dbfb3",
   "metadata": {},
   "outputs": [
    {
     "name": "stderr",
     "output_type": "stream",
     "text": [
      "C:\\Users\\Salima\\anaconda3\\lib\\site-packages\\IPython\\core\\interactiveshell.py:3165: DtypeWarning: Columns (9,11,17,19,21,23,25,27,29,31,33,35,37,39,41,43,45,47,49,51,53,55,57,59,61,63,65,67,69) have mixed types.Specify dtype option on import or set low_memory=False.\n",
      "  has_raised = await self.run_ast_nodes(code_ast.body, cell_name,\n"
     ]
    },
    {
     "data": {
      "text/html": [
       "<div>\n",
       "<style scoped>\n",
       "    .dataframe tbody tr th:only-of-type {\n",
       "        vertical-align: middle;\n",
       "    }\n",
       "\n",
       "    .dataframe tbody tr th {\n",
       "        vertical-align: top;\n",
       "    }\n",
       "\n",
       "    .dataframe thead th {\n",
       "        text-align: right;\n",
       "    }\n",
       "</style>\n",
       "<table border=\"1\" class=\"dataframe\">\n",
       "  <thead>\n",
       "    <tr style=\"text-align: right;\">\n",
       "      <th></th>\n",
       "      <th>DATE</th>\n",
       "      <th>TMAX</th>\n",
       "      <th>TMIN</th>\n",
       "    </tr>\n",
       "  </thead>\n",
       "  <tbody>\n",
       "    <tr>\n",
       "      <th>37416</th>\n",
       "      <td>2005-02-01</td>\n",
       "      <td>150.0</td>\n",
       "      <td>33.0</td>\n",
       "    </tr>\n",
       "    <tr>\n",
       "      <th>37417</th>\n",
       "      <td>2005-02-02</td>\n",
       "      <td>194.0</td>\n",
       "      <td>56.0</td>\n",
       "    </tr>\n",
       "    <tr>\n",
       "      <th>37418</th>\n",
       "      <td>2005-02-03</td>\n",
       "      <td>172.0</td>\n",
       "      <td>28.0</td>\n",
       "    </tr>\n",
       "    <tr>\n",
       "      <th>37419</th>\n",
       "      <td>2005-02-04</td>\n",
       "      <td>167.0</td>\n",
       "      <td>28.0</td>\n",
       "    </tr>\n",
       "    <tr>\n",
       "      <th>37420</th>\n",
       "      <td>2005-02-05</td>\n",
       "      <td>167.0</td>\n",
       "      <td>44.0</td>\n",
       "    </tr>\n",
       "    <tr>\n",
       "      <th>...</th>\n",
       "      <td>...</td>\n",
       "      <td>...</td>\n",
       "      <td>...</td>\n",
       "    </tr>\n",
       "    <tr>\n",
       "      <th>41380</th>\n",
       "      <td>2015-12-26</td>\n",
       "      <td>100.0</td>\n",
       "      <td>6.0</td>\n",
       "    </tr>\n",
       "    <tr>\n",
       "      <th>41381</th>\n",
       "      <td>2015-12-27</td>\n",
       "      <td>111.0</td>\n",
       "      <td>-28.0</td>\n",
       "    </tr>\n",
       "    <tr>\n",
       "      <th>41382</th>\n",
       "      <td>2015-12-28</td>\n",
       "      <td>72.0</td>\n",
       "      <td>-17.0</td>\n",
       "    </tr>\n",
       "    <tr>\n",
       "      <th>41383</th>\n",
       "      <td>2015-12-29</td>\n",
       "      <td>89.0</td>\n",
       "      <td>11.0</td>\n",
       "    </tr>\n",
       "    <tr>\n",
       "      <th>41384</th>\n",
       "      <td>2015-12-31</td>\n",
       "      <td>94.0</td>\n",
       "      <td>-17.0</td>\n",
       "    </tr>\n",
       "  </tbody>\n",
       "</table>\n",
       "<p>3969 rows × 3 columns</p>\n",
       "</div>"
      ],
      "text/plain": [
       "            DATE   TMAX  TMIN\n",
       "37416 2005-02-01  150.0  33.0\n",
       "37417 2005-02-02  194.0  56.0\n",
       "37418 2005-02-03  172.0  28.0\n",
       "37419 2005-02-04  167.0  28.0\n",
       "37420 2005-02-05  167.0  44.0\n",
       "...          ...    ...   ...\n",
       "41380 2015-12-26  100.0   6.0\n",
       "41381 2015-12-27  111.0 -28.0\n",
       "41382 2015-12-28   72.0 -17.0\n",
       "41383 2015-12-29   89.0  11.0\n",
       "41384 2015-12-31   94.0 -17.0\n",
       "\n",
       "[3969 rows x 3 columns]"
      ]
     },
     "execution_count": 182,
     "metadata": {},
     "output_type": "execute_result"
    }
   ],
   "source": [
    "# file name\n",
    "file_name = 'Data_weather2.csv'\n",
    "\n",
    "# read data\n",
    "df = pd.read_csv(file_name , sep = ',')\n",
    "\n",
    "# convert date to datetime object\n",
    "df['DATE'] = pd.to_datetime(df['DATE'])\n",
    "# get data from 2005 to 2014\n",
    "df = df [ (df ['DATE'] > '2004 - 12 - 31' ) &  (df ['DATE'] < '2016 - 1 - 1') ]\n",
    "# retrieve only the columns that matters in our study\n",
    "data = df[['DATE', 'TMAX', 'TMIN']].copy()\n",
    "data"
   ]
  },
  {
   "cell_type": "code",
   "execution_count": 183,
   "id": "c7a50004",
   "metadata": {},
   "outputs": [
    {
     "data": {
      "text/html": [
       "<div>\n",
       "<style scoped>\n",
       "    .dataframe tbody tr th:only-of-type {\n",
       "        vertical-align: middle;\n",
       "    }\n",
       "\n",
       "    .dataframe tbody tr th {\n",
       "        vertical-align: top;\n",
       "    }\n",
       "\n",
       "    .dataframe thead th {\n",
       "        text-align: right;\n",
       "    }\n",
       "</style>\n",
       "<table border=\"1\" class=\"dataframe\">\n",
       "  <thead>\n",
       "    <tr style=\"text-align: right;\">\n",
       "      <th></th>\n",
       "      <th>DATE</th>\n",
       "      <th>TMAX</th>\n",
       "      <th>TMIN</th>\n",
       "    </tr>\n",
       "  </thead>\n",
       "  <tbody>\n",
       "    <tr>\n",
       "      <th>37416</th>\n",
       "      <td>2005-02-01</td>\n",
       "      <td>15.0</td>\n",
       "      <td>3.3</td>\n",
       "    </tr>\n",
       "    <tr>\n",
       "      <th>37417</th>\n",
       "      <td>2005-02-02</td>\n",
       "      <td>19.4</td>\n",
       "      <td>5.6</td>\n",
       "    </tr>\n",
       "    <tr>\n",
       "      <th>37418</th>\n",
       "      <td>2005-02-03</td>\n",
       "      <td>17.2</td>\n",
       "      <td>2.8</td>\n",
       "    </tr>\n",
       "    <tr>\n",
       "      <th>37419</th>\n",
       "      <td>2005-02-04</td>\n",
       "      <td>16.7</td>\n",
       "      <td>2.8</td>\n",
       "    </tr>\n",
       "    <tr>\n",
       "      <th>37420</th>\n",
       "      <td>2005-02-05</td>\n",
       "      <td>16.7</td>\n",
       "      <td>4.4</td>\n",
       "    </tr>\n",
       "    <tr>\n",
       "      <th>...</th>\n",
       "      <td>...</td>\n",
       "      <td>...</td>\n",
       "      <td>...</td>\n",
       "    </tr>\n",
       "    <tr>\n",
       "      <th>41380</th>\n",
       "      <td>2015-12-26</td>\n",
       "      <td>10.0</td>\n",
       "      <td>0.6</td>\n",
       "    </tr>\n",
       "    <tr>\n",
       "      <th>41381</th>\n",
       "      <td>2015-12-27</td>\n",
       "      <td>11.1</td>\n",
       "      <td>-2.8</td>\n",
       "    </tr>\n",
       "    <tr>\n",
       "      <th>41382</th>\n",
       "      <td>2015-12-28</td>\n",
       "      <td>7.2</td>\n",
       "      <td>-1.7</td>\n",
       "    </tr>\n",
       "    <tr>\n",
       "      <th>41383</th>\n",
       "      <td>2015-12-29</td>\n",
       "      <td>8.9</td>\n",
       "      <td>1.1</td>\n",
       "    </tr>\n",
       "    <tr>\n",
       "      <th>41384</th>\n",
       "      <td>2015-12-31</td>\n",
       "      <td>9.4</td>\n",
       "      <td>-1.7</td>\n",
       "    </tr>\n",
       "  </tbody>\n",
       "</table>\n",
       "<p>3969 rows × 3 columns</p>\n",
       "</div>"
      ],
      "text/plain": [
       "            DATE  TMAX  TMIN\n",
       "37416 2005-02-01  15.0   3.3\n",
       "37417 2005-02-02  19.4   5.6\n",
       "37418 2005-02-03  17.2   2.8\n",
       "37419 2005-02-04  16.7   2.8\n",
       "37420 2005-02-05  16.7   4.4\n",
       "...          ...   ...   ...\n",
       "41380 2015-12-26  10.0   0.6\n",
       "41381 2015-12-27  11.1  -2.8\n",
       "41382 2015-12-28   7.2  -1.7\n",
       "41383 2015-12-29   8.9   1.1\n",
       "41384 2015-12-31   9.4  -1.7\n",
       "\n",
       "[3969 rows x 3 columns]"
      ]
     },
     "execution_count": 183,
     "metadata": {},
     "output_type": "execute_result"
    }
   ],
   "source": [
    "# convert data from tenth of degrees (C) to degrees (C)\n",
    "data['TMAX'] = data['TMAX'].multiply(0.1)\n",
    "data['TMIN'] = data['TMIN'].multiply(0.1)\n",
    "data"
   ]
  },
  {
   "cell_type": "code",
   "execution_count": 184,
   "id": "da9d15ff",
   "metadata": {},
   "outputs": [
    {
     "name": "stderr",
     "output_type": "stream",
     "text": [
      "<ipython-input-184-193a9ebd491d>:4: SettingWithCopyWarning: \n",
      "A value is trying to be set on a copy of a slice from a DataFrame.\n",
      "Try using .loc[row_indexer,col_indexer] = value instead\n",
      "\n",
      "See the caveats in the documentation: https://pandas.pydata.org/pandas-docs/stable/user_guide/indexing.html#returning-a-view-versus-a-copy\n",
      "  data['Month'] = data['DATE'].dt.month\n",
      "<ipython-input-184-193a9ebd491d>:5: SettingWithCopyWarning: \n",
      "A value is trying to be set on a copy of a slice from a DataFrame.\n",
      "Try using .loc[row_indexer,col_indexer] = value instead\n",
      "\n",
      "See the caveats in the documentation: https://pandas.pydata.org/pandas-docs/stable/user_guide/indexing.html#returning-a-view-versus-a-copy\n",
      "  data['Month_Day'] = data['DATE'].dt.strftime('%m-%d')\n"
     ]
    },
    {
     "data": {
      "text/html": [
       "<div>\n",
       "<style scoped>\n",
       "    .dataframe tbody tr th:only-of-type {\n",
       "        vertical-align: middle;\n",
       "    }\n",
       "\n",
       "    .dataframe tbody tr th {\n",
       "        vertical-align: top;\n",
       "    }\n",
       "\n",
       "    .dataframe thead th {\n",
       "        text-align: right;\n",
       "    }\n",
       "</style>\n",
       "<table border=\"1\" class=\"dataframe\">\n",
       "  <thead>\n",
       "    <tr style=\"text-align: right;\">\n",
       "      <th></th>\n",
       "      <th>DATE</th>\n",
       "      <th>TMAX</th>\n",
       "      <th>TMIN</th>\n",
       "    </tr>\n",
       "  </thead>\n",
       "  <tbody>\n",
       "    <tr>\n",
       "      <th>41028</th>\n",
       "      <td>2015-01-01</td>\n",
       "      <td>12.8</td>\n",
       "      <td>-1.1</td>\n",
       "    </tr>\n",
       "    <tr>\n",
       "      <th>41029</th>\n",
       "      <td>2015-01-02</td>\n",
       "      <td>11.1</td>\n",
       "      <td>-2.2</td>\n",
       "    </tr>\n",
       "    <tr>\n",
       "      <th>41030</th>\n",
       "      <td>2015-01-03</td>\n",
       "      <td>11.7</td>\n",
       "      <td>-2.2</td>\n",
       "    </tr>\n",
       "    <tr>\n",
       "      <th>41031</th>\n",
       "      <td>2015-01-04</td>\n",
       "      <td>12.8</td>\n",
       "      <td>0.6</td>\n",
       "    </tr>\n",
       "    <tr>\n",
       "      <th>41032</th>\n",
       "      <td>2015-01-05</td>\n",
       "      <td>13.3</td>\n",
       "      <td>0.0</td>\n",
       "    </tr>\n",
       "    <tr>\n",
       "      <th>...</th>\n",
       "      <td>...</td>\n",
       "      <td>...</td>\n",
       "      <td>...</td>\n",
       "    </tr>\n",
       "    <tr>\n",
       "      <th>41380</th>\n",
       "      <td>2015-12-26</td>\n",
       "      <td>10.0</td>\n",
       "      <td>0.6</td>\n",
       "    </tr>\n",
       "    <tr>\n",
       "      <th>41381</th>\n",
       "      <td>2015-12-27</td>\n",
       "      <td>11.1</td>\n",
       "      <td>-2.8</td>\n",
       "    </tr>\n",
       "    <tr>\n",
       "      <th>41382</th>\n",
       "      <td>2015-12-28</td>\n",
       "      <td>7.2</td>\n",
       "      <td>-1.7</td>\n",
       "    </tr>\n",
       "    <tr>\n",
       "      <th>41383</th>\n",
       "      <td>2015-12-29</td>\n",
       "      <td>8.9</td>\n",
       "      <td>1.1</td>\n",
       "    </tr>\n",
       "    <tr>\n",
       "      <th>41384</th>\n",
       "      <td>2015-12-31</td>\n",
       "      <td>9.4</td>\n",
       "      <td>-1.7</td>\n",
       "    </tr>\n",
       "  </tbody>\n",
       "</table>\n",
       "<p>357 rows × 3 columns</p>\n",
       "</div>"
      ],
      "text/plain": [
       "            DATE  TMAX  TMIN\n",
       "41028 2015-01-01  12.8  -1.1\n",
       "41029 2015-01-02  11.1  -2.2\n",
       "41030 2015-01-03  11.7  -2.2\n",
       "41031 2015-01-04  12.8   0.6\n",
       "41032 2015-01-05  13.3   0.0\n",
       "...          ...   ...   ...\n",
       "41380 2015-12-26  10.0   0.6\n",
       "41381 2015-12-27  11.1  -2.8\n",
       "41382 2015-12-28   7.2  -1.7\n",
       "41383 2015-12-29   8.9   1.1\n",
       "41384 2015-12-31   9.4  -1.7\n",
       "\n",
       "[357 rows x 3 columns]"
      ]
     },
     "execution_count": 184,
     "metadata": {},
     "output_type": "execute_result"
    }
   ],
   "source": [
    "#add months column dates\n",
    "data_2015 = data [data['DATE'] >= '2015-01-01']\n",
    "data = data [ data['DATE'] < '2015 - 01 - 01']\n",
    "data['Month'] = data['DATE'].dt.month\n",
    "data['Month_Day'] = data['DATE'].dt.strftime('%m-%d')\n",
    "\n",
    "data_2015"
   ]
  },
  {
   "cell_type": "code",
   "execution_count": 275,
   "id": "4bc0e94b",
   "metadata": {},
   "outputs": [
    {
     "data": {
      "text/plain": [
       "Month_Day\n",
       "01-01    18.3\n",
       "01-02    17.8\n",
       "01-03    20.0\n",
       "01-04    18.9\n",
       "01-05    20.6\n",
       "         ... \n",
       "12-27    18.9\n",
       "12-28    16.7\n",
       "12-29    21.1\n",
       "12-30    18.3\n",
       "12-31    17.2\n",
       "Name: TMAX, Length: 366, dtype: float64"
      ]
     },
     "execution_count": 275,
     "metadata": {},
     "output_type": "execute_result"
    }
   ],
   "source": [
    "max_temp = data.groupby('Month_Day')['TMAX'].max()\n",
    "max_temp\n"
   ]
  },
  {
   "cell_type": "code",
   "execution_count": 290,
   "id": "aaf83f66",
   "metadata": {},
   "outputs": [
    {
     "data": {
      "text/plain": [
       "Month_Day\n",
       "01-01   -1.1\n",
       "01-02   -1.1\n",
       "01-03   -2.2\n",
       "01-04   -2.8\n",
       "01-05   -2.2\n",
       "        ... \n",
       "12-27   -1.7\n",
       "12-28   -1.1\n",
       "12-29   -1.1\n",
       "12-30   -1.7\n",
       "12-31   -1.1\n",
       "Name: TMIN, Length: 366, dtype: float64"
      ]
     },
     "execution_count": 290,
     "metadata": {},
     "output_type": "execute_result"
    }
   ],
   "source": [
    "min_temp = data.groupby('Month_Day')['TMIN'].min()\n",
    "min_temp"
   ]
  },
  {
   "cell_type": "code",
   "execution_count": 291,
   "id": "6e7d76e0",
   "metadata": {},
   "outputs": [
    {
     "name": "stderr",
     "output_type": "stream",
     "text": [
      "<ipython-input-291-d72836f268c8>:1: SettingWithCopyWarning: \n",
      "A value is trying to be set on a copy of a slice from a DataFrame.\n",
      "Try using .loc[row_indexer,col_indexer] = value instead\n",
      "\n",
      "See the caveats in the documentation: https://pandas.pydata.org/pandas-docs/stable/user_guide/indexing.html#returning-a-view-versus-a-copy\n",
      "  data_2015['Month_Day'] = data_2015['DATE'].dt.strftime('%m-%d')\n"
     ]
    },
    {
     "data": {
      "text/plain": [
       "Month_Day\n",
       "01-01   -1.1\n",
       "01-02   -2.2\n",
       "01-03   -2.2\n",
       "01-04    0.6\n",
       "01-05    0.0\n",
       "        ... \n",
       "12-26    0.6\n",
       "12-27   -2.8\n",
       "12-28   -1.7\n",
       "12-29    1.1\n",
       "12-31   -1.7\n",
       "Name: TMIN, Length: 357, dtype: float64"
      ]
     },
     "execution_count": 291,
     "metadata": {},
     "output_type": "execute_result"
    }
   ],
   "source": [
    "data_2015['Month_Day'] = data_2015['DATE'].dt.strftime('%m-%d')\n",
    "max_2015 = data_2015.groupby('Month_Day')['TMAX'].max()\n",
    "min_2015 = data_2015.groupby('Month_Day')['TMIN'].min()\n",
    "min_2015"
   ]
  },
  {
   "cell_type": "code",
   "execution_count": 292,
   "id": "4836dde3",
   "metadata": {},
   "outputs": [
    {
     "data": {
      "text/plain": [
       "Index(['01-01', '01-02', '01-03', '01-04', '01-05', '01-06', '01-07', '01-08',\n",
       "       '01-09', '01-10',\n",
       "       ...\n",
       "       '12-22', '12-23', '12-24', '12-25', '12-26', '12-27', '12-28', '12-29',\n",
       "       '12-30', '12-31'],\n",
       "      dtype='object', name='Month_Day', length=366)"
      ]
     },
     "execution_count": 292,
     "metadata": {},
     "output_type": "execute_result"
    }
   ],
   "source": [
    "# Create datetime indx\n",
    "index = min_temp.index\n",
    "index\n"
   ]
  },
  {
   "cell_type": "code",
   "execution_count": 293,
   "id": "e811e077",
   "metadata": {},
   "outputs": [],
   "source": [
    "index2 = min_2015.index\n",
    "min_2015 =  min_2015 [[elem for elem in index2 if min_2015[elem] < min_temp[elem]]]\n",
    "max_2015 = max_2015 [[elem for elem in index2 if max_2015[elem] > max_temp[elem]]]\n",
    "index_min = min_2015.index\n",
    "index_max = max_2015.index\n"
   ]
  },
  {
   "cell_type": "code",
   "execution_count": 294,
   "id": "decddfec",
   "metadata": {},
   "outputs": [
    {
     "data": {
      "text/plain": [
       "Month_Day\n",
       "01-02   -2.2\n",
       "04-01    3.9\n",
       "05-08    6.7\n",
       "09-06    8.3\n",
       "11-06    3.3\n",
       "11-07    3.3\n",
       "11-14    2.8\n",
       "11-29   -2.2\n",
       "12-13   -3.9\n",
       "12-16   -1.1\n",
       "12-27   -2.8\n",
       "12-28   -1.7\n",
       "12-31   -1.7\n",
       "Name: TMIN, dtype: float64"
      ]
     },
     "execution_count": 294,
     "metadata": {},
     "output_type": "execute_result"
    }
   ],
   "source": [
    "min_2015"
   ]
  },
  {
   "cell_type": "code",
   "execution_count": 309,
   "id": "8fb3f439",
   "metadata": {
    "scrolled": false
   },
   "outputs": [
    {
     "data": {
      "text/plain": [
       "Text(0.5, 1.0, 'Extreme Temperature in Calfornia (2005-2015)')"
      ]
     },
     "execution_count": 309,
     "metadata": {},
     "output_type": "execute_result"
    },
    {
     "data": {
      "image/png": "[encoded data removed]",
      "text/plain": [
       "<Figure size 864x576 with 1 Axes>"
      ]
     },
     "metadata": {
      "needs_background": "light"
     },
     "output_type": "display_data"
    }
   ],
   "source": [
    "\n",
    "plt.figure(figsize=(12,8))\n",
    "plt.plot(index, min_temp, color='darkred',linewidth=1)\n",
    "plt.plot(index, max_temp, color='dodgerblue', linewidth=1)\n",
    "plt.xlabel('Month', fontsize=15)\n",
    "plt.ylabel('°Celsius', fontsize=15)\n",
    "plt.fill_between(range(len(min_temp)), \n",
    "                       min_temp, max_temp, \n",
    "                       facecolor='purple', \n",
    "                       alpha=0.10)\n",
    "plt.plot(index_max,max_2015, label='2015 new high',marker='o',linewidth=0,markersize=5,color='crimson')\n",
    "plt.plot(index_min,min_2015, label='2015 new low',marker='o',linewidth=0,markersize=5,color='springgreen')\n",
    "\n",
    "\n",
    "labels = ['Jan','Feb','Mar','Apr','May','Jun','July','Aug','Sept','Oct','Nov','Dec']\n",
    "loc = range (0,365,31)\n",
    "plt.xticks(loc, labels, rotation= 45)\n",
    "# Set x and y limits.\n",
    "# Create legend and title\n",
    "plt.legend(['Temperature record high for 2005-2014', 'Temperature record low for 2005-2014',\n",
    "           'Day in 2015 that broke the record (High) ',\n",
    "           'Day in 2015 that broke the record (Low) '], loc='lower center', frameon=False)\n",
    "plt.title('Extreme Temperature in Calfornia (2005-2015)')\n",
    "\n",
    "\n"
   ]
  },
  {
   "cell_type": "code",
   "execution_count": null,
   "id": "0a41fcc0",
   "metadata": {},
   "outputs": [],
   "source": []
  }
 ],
 "metadata": {
  "kernelspec": {
   "display_name": "Python 3",
   "language": "python",
   "name": "python3"
  },
  "language_info": {
   "codemirror_mode": {
    "name": "ipython",
    "version": 3
   },
   "file_extension": ".py",
   "mimetype": "text/x-python",
   "name": "python",
   "nbconvert_exporter": "python",
   "pygments_lexer": "ipython3",
   "version": "3.8.8"
  }
 },
 "nbformat": 4,
 "nbformat_minor": 5
}
